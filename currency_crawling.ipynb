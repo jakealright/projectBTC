{
 "cells": [
  {
   "cell_type": "code",
   "execution_count": 1,
   "metadata": {
    "collapsed": true
   },
   "outputs": [],
   "source": [
    "from bs4 import BeautifulSoup\n",
    "import requests\n",
    "import re\n",
    "import csv\n",
    "from pandas import DataFrame"
   ]
  },
  {
   "cell_type": "code",
   "execution_count": 2,
   "metadata": {
    "collapsed": true
   },
   "outputs": [],
   "source": [
    "def get_html(url):\n",
    "   _html = \"\"\n",
    "   resp = requests.get(url)\n",
    "   if resp.status_code == 200:\n",
    "      _html = resp.text\n",
    "   return _html"
   ]
  },
  {
   "cell_type": "code",
   "execution_count": 3,
   "metadata": {
    "collapsed": true
   },
   "outputs": [],
   "source": [
    "coin_name = [] "
   ]
  },
  {
   "cell_type": "code",
   "execution_count": 4,
   "metadata": {
    "collapsed": true
   },
   "outputs": [],
   "source": [
    "link = \"https://coinmarketcap.com/ko/\"\n",
    "html = get_html(link)\n",
    "soup  = BeautifulSoup(html,'html.parser')\n",
    "name = soup.find_all(\"a\",{\"class\":\"currency-name-container\"})\n",
    "for i in name:\n",
    "    coin_name.append(i.text.lower())"
   ]
  },
  {
   "cell_type": "code",
   "execution_count": 8,
   "metadata": {},
   "outputs": [],
   "source": [
    "for i in coin_name:\n",
    "    \n",
    "    date = []\n",
    "    open_price = []\n",
    "    high_price = [] \n",
    "    low_price = []\n",
    "    close_price = []\n",
    "    volume = []\n",
    "    \n",
    "    url = \"https://coinmarketcap.com/ko/currencies/\"+i+\"/historical-data/?start=20130428&end=20180321\"\n",
    "    name = i+'.csv'\n",
    "    html = get_html(url)\n",
    "    soup = BeautifulSoup(html,'html.parser')\n",
    "    coin_date = soup.select(\"td.text-left\")\n",
    "    openPrice = soup.select(\"tr.text-right > td:nth-of-type(2)\")\n",
    "    highPrice = soup.select(\"tr.text-right > td:nth-of-type(3)\")\n",
    "    lowPrice = soup.select(\"tr.text-right > td:nth-of-type(4)\")\n",
    "    closePrice = soup.select(\"tr.text-right > td:nth-of-type(5)\")\n",
    "    priceVolume = soup.select(\"tr.text-right > td:nth-of-type(6)\")\n",
    "    for i in coin_date:\n",
    "        date.append(i.text)\n",
    "    for i in openPrice:\n",
    "        open_price.append(i.text)\n",
    "    for i in highPrice:\n",
    "        high_price.append(i.text)\n",
    "    for i in lowPrice:\n",
    "        low_price.append(i.text)\n",
    "    for i in closePrice:\n",
    "        close_price.append(i.text)\n",
    "    for i in priceVolume:\n",
    "        volume.append(i.text)\n",
    "    \n",
    "    data = {\n",
    "            'open': [x for x in open_price],\n",
    "            'high': [x for x in high_price],\n",
    "             'low' : [x for x in low_price],\n",
    "             'close' : [x for x in close_price],\n",
    "            'volume' : [x for x in volume]\n",
    "           }\n",
    "    currency = DataFrame(data,index=date)\n",
    "    currency.to_csv('C:/0.bigData/00.project/currency/currency'+name)"
   ]
  },
  {
   "cell_type": "code",
   "execution_count": 10,
   "metadata": {},
   "outputs": [],
   "source": [
    "for i in coin_name:   \n",
    "    \n",
    "    market_name = []\n",
    "    pair = []\n",
    "    trade_volume = []\n",
    "    trade_price = []\n",
    "    \n",
    "    url = \"https://coinmarketcap.com/ko/currencies/\"+i+\"/#markets\"\n",
    "    name = i+'.csv'\n",
    "    html = get_html(url)\n",
    "    soup = BeautifulSoup(html,'html.parser')\n",
    "    market = soup.select(\"tr > td:nth-of-type(2) > a\")\n",
    "    pairs = soup.select(\"tr > td:nth-of-type(3) > a\")\n",
    "    volumes = soup.select(\"tr > td:nth-of-type(4) > span\")\n",
    "    prices = soup.select(\"tr > td:nth-of-type(5) > span\")\n",
    "    for i in market:\n",
    "        market_name.append(i.get_text())\n",
    "    for i in pairs:\n",
    "        pair.append(i.get_text())\n",
    "    for i in volumes:\n",
    "        trade_volume.append(i.get_text())\n",
    "    for i in prices:\n",
    "        trade_price.append(i.get_text())\n",
    "    for i in range(len(trade_price)):\n",
    "        trade_price[i]= trade_price[i].replace('\\n','')\n",
    "    for i in range(len(trade_volume)):\n",
    "        trade_volume[i]= trade_volume[i].replace('\\n','')\n",
    "        \n",
    "        \n",
    "    data = {\n",
    "            'market': [x for x in market_name],\n",
    "            'pair': [x for x in pair],\n",
    "             'trade_volume' : [x for x in trade_volume],\n",
    "             'trade_price' : [x for x in trade_price]\n",
    "           }\n",
    "    market = DataFrame(data)\n",
    "    market.to_csv('C:/0.bigData/00.project/market/market_'+name)"
   ]
  },
  {
   "cell_type": "code",
   "execution_count": null,
   "metadata": {
    "collapsed": true
   },
   "outputs": [],
   "source": []
  },
  {
   "cell_type": "code",
   "execution_count": null,
   "metadata": {
    "collapsed": true
   },
   "outputs": [],
   "source": []
  }
 ],
 "metadata": {
  "kernelspec": {
   "display_name": "Python 3",
   "language": "python",
   "name": "python3"
  },
  "language_info": {
   "codemirror_mode": {
    "name": "ipython",
    "version": 3
   },
   "file_extension": ".py",
   "mimetype": "text/x-python",
   "name": "python",
   "nbconvert_exporter": "python",
   "pygments_lexer": "ipython3",
   "version": "3.6.3"
  }
 },
 "nbformat": 4,
 "nbformat_minor": 2
}
